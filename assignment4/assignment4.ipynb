{
 "cells": [
  {
   "cell_type": "markdown",
   "metadata": {
    "deletable": false,
    "nbgrader": {
     "checksum": "80b5eebb41c3567cdc7acb7a06ada5d0",
     "grade": false,
     "grade_id": "title",
     "locked": true,
     "solution": false
    }
   },
   "source": [
    "## Assignment 4 (Due 5 December 2016 by 11:59pm)\n",
    "## Kaplan-Wald test "
   ]
  },
  {
   "cell_type": "markdown",
   "metadata": {
    "deletable": false,
    "nbgrader": {
     "checksum": "1e60d15d32c55b3d47b0dd35315f6e1f",
     "grade": false,
     "grade_id": "part_a",
     "locked": true,
     "solution": false
    }
   },
   "source": [
    "---\n",
    "## Part a (2 points)\n",
    "Derive the Kaplan-Wald test of the hypothesis that the mean of a finite,\n",
    "nonnegative population is equal to $t$ against the alternative that it is greater\n",
    "than $t$, for sampling _without_ replacement.\n",
    "\n",
    "You may want to take a look at Chapter 7 and 8 of Philip Stark's lectures on Nonparametric Inference, Auditing, and Litigation. https://github.com/pbstark/MX14/ and wikipedia page on Sequential probability ratio test."
   ]
  },
  {
   "cell_type": "markdown",
   "metadata": {
    "deletable": false,
    "nbgrader": {
     "checksum": "319e9037b9b9dd2acaf37961117804c0",
     "grade": true,
     "grade_id": "sol_a",
     "locked": false,
     "points": 2,
     "solution": true
    }
   },
   "source": [
    "YOUR ANSWER HERE"
   ]
  },
  {
   "cell_type": "markdown",
   "metadata": {
    "deletable": false,
    "nbgrader": {
     "checksum": "ad79823607c22920f70b9d8cdc128297",
     "grade": false,
     "grade_id": "part_b",
     "locked": true,
     "solution": false
    }
   },
   "source": [
    "## Part b (2 points)\n",
    "Implement the Kaplan-Wald test in Python:\n",
    "1. Give some thought to the calling signature and default parameter values; explain your choices.\n",
    "2. Provide appropriate unit tests"
   ]
  },
  {
   "cell_type": "code",
   "execution_count": null,
   "metadata": {
    "collapsed": true,
    "deletable": false,
    "nbgrader": {
     "checksum": "ec3c181b0c32a14d0381a1813da9b850",
     "grade": true,
     "grade_id": "sol_b_1",
     "locked": false,
     "points": 1,
     "solution": true
    }
   },
   "outputs": [],
   "source": [
    "# YOUR CODE HERE\n",
    "raise NotImplementedError()"
   ]
  },
  {
   "cell_type": "code",
   "execution_count": null,
   "metadata": {
    "collapsed": true,
    "deletable": false,
    "nbgrader": {
     "checksum": "88ca7d62dc74f98b19da8230458728ba",
     "grade": true,
     "grade_id": "sol_b_2",
     "locked": false,
     "points": 1,
     "solution": true
    }
   },
   "outputs": [],
   "source": [
    "# Your unit tests here\n",
    "# YOUR CODE HERE\n",
    "raise NotImplementedError()"
   ]
  },
  {
   "cell_type": "markdown",
   "metadata": {
    "deletable": false,
    "nbgrader": {
     "checksum": "a85df30109f202d7fada259869c5b6e0",
     "grade": false,
     "grade_id": "part_c",
     "locked": true,
     "solution": false
    }
   },
   "source": [
    "## Part c (2 points)\n",
    "Implement the inversion of the test to construct a one-sided lower confidence interval in Python:\n",
    "1. Give some thought to the calling signature and default parameter values; explain your choices.\n",
    "2. Provide appropriate unit tests"
   ]
  },
  {
   "cell_type": "code",
   "execution_count": null,
   "metadata": {
    "collapsed": true,
    "deletable": false,
    "nbgrader": {
     "checksum": "c3a099332b9c1e8b2fe3f82000c4cd1b",
     "grade": true,
     "grade_id": "sol_c_1",
     "locked": false,
     "points": 1,
     "solution": true
    }
   },
   "outputs": [],
   "source": [
    "# YOUR CODE HERE\n",
    "raise NotImplementedError()"
   ]
  },
  {
   "cell_type": "code",
   "execution_count": null,
   "metadata": {
    "collapsed": true,
    "deletable": false,
    "nbgrader": {
     "checksum": "4f47c96f2d9ceb70a02866468804deb9",
     "grade": true,
     "grade_id": "sol_c_2",
     "locked": false,
     "points": 1,
     "solution": true
    }
   },
   "outputs": [],
   "source": [
    "# Your unit tests here\n",
    "# YOUR CODE HERE\n",
    "raise NotImplementedError()"
   ]
  },
  {
   "cell_type": "markdown",
   "metadata": {
    "deletable": false,
    "nbgrader": {
     "checksum": "841cc1e21432c412d2dbf57d0737e9bc",
     "grade": false,
     "grade_id": "part_d",
     "locked": true,
     "solution": false
    }
   },
   "source": [
    "## Part d (4 points)\n",
    "Perform simulations for samples of size 25, 50, and 100 from several nonnegative\n",
    "populations of size 250. \n",
    "1. Compare the lower confidence bounds based on your implementation to lower bounds for the Kaplan-Markov method with replacement, for a variety of values of $\\gamma$. \n",
    "    \n",
    "2. Calculate (not simulate) the expected number of distinct items that a sample with replacement will contain, for each of those sample sizes. \n",
    "    \n",
    "3. Find lower confidence bounds for samples drawn without replacement, where the number of items selected is equal to the expected number of distinct items that sampling with replacement would yield. E.g., if the expected number of distinct items that drawing 100 times with replacement is 90, find a lower confidence bound based on drawing 90 times without replacement. Compare those lower confidence bounds to the lower confidence bounds you found previously for sampling (more times) with replacement.\n",
    "    \n",
    "4. Does sampling without replacement help reduce the number of distinct items one needs to examine to get a given level of precision, compared with sampling with replacement?\n"
   ]
  },
  {
   "cell_type": "markdown",
   "metadata": {
    "deletable": false,
    "nbgrader": {
     "checksum": "4cadaa6aa2cb52c47e91af722320ae4c",
     "grade": false,
     "grade_id": "part_d_1",
     "locked": true,
     "solution": false
    }
   },
   "source": [
    "d.1. Compare the lower confidence bounds based on your implementation to lower bounds for the Kaplan-Markov method with replacement, for a variety of values of $\\gamma$. "
   ]
  },
  {
   "cell_type": "code",
   "execution_count": null,
   "metadata": {
    "collapsed": false,
    "deletable": false,
    "nbgrader": {
     "checksum": "4ed2fca35f7e7c4c65e48be7e18c61f3",
     "grade": true,
     "grade_id": "sol_part_d_1",
     "locked": false,
     "points": 1,
     "solution": true
    }
   },
   "outputs": [],
   "source": [
    "# YOUR CODE HERE\n",
    "raise NotImplementedError()"
   ]
  },
  {
   "cell_type": "markdown",
   "metadata": {
    "deletable": false,
    "nbgrader": {
     "checksum": "7365c542513d4b138d43e8183eb0c4bd",
     "grade": false,
     "grade_id": "part_d_2",
     "locked": true,
     "solution": false
    }
   },
   "source": [
    "d.2. Calculate (not simulate) the expected number of distinct items that a sample with replacement will contain, for each of those sample sizes. "
   ]
  },
  {
   "cell_type": "markdown",
   "metadata": {
    "deletable": false,
    "nbgrader": {
     "checksum": "e066a54d3d3e3a6df0fc96c2cdc214e1",
     "grade": true,
     "grade_id": "sol_part_d_2",
     "locked": false,
     "points": 1,
     "solution": true
    }
   },
   "source": [
    "YOUR ANSWER HERE"
   ]
  },
  {
   "cell_type": "markdown",
   "metadata": {
    "deletable": false,
    "nbgrader": {
     "checksum": "d6f52303bbef78bbf8e6c3bcab153d6c",
     "grade": false,
     "grade_id": "part_d_3",
     "locked": true,
     "solution": false
    }
   },
   "source": [
    "d.3.  Find lower confidence bounds for samples drawn without replacement, where the number of items selected is equal to the expected number of distinct items that sampling with replacement would yield. E.g., if the expected number of distinct items that drawing 100 times with replacement is 90, find a lower confidence bound based on drawing 90 times without replacement. Compare those lower confidence bounds to the lower confidence bounds you found previously for sampling (more times) with replacement."
   ]
  },
  {
   "cell_type": "code",
   "execution_count": null,
   "metadata": {
    "collapsed": false,
    "deletable": false,
    "nbgrader": {
     "checksum": "15ea172d05f76cdd4bf33e7f674295af",
     "grade": true,
     "grade_id": "sol_part_d_3",
     "locked": false,
     "points": 1,
     "solution": true
    }
   },
   "outputs": [],
   "source": [
    "# YOUR CODE HERE\n",
    "raise NotImplementedError()"
   ]
  },
  {
   "cell_type": "markdown",
   "metadata": {
    "deletable": false,
    "nbgrader": {
     "checksum": "23316f87f86994791890442e522cfca8",
     "grade": false,
     "grade_id": "part_d_4",
     "locked": true,
     "solution": false
    }
   },
   "source": [
    "d.4. Does sampling without replacement help reduce the number of distinct items one needs to examine to get a given level of precision, compared with sampling with replacement?"
   ]
  },
  {
   "cell_type": "markdown",
   "metadata": {
    "deletable": false,
    "nbgrader": {
     "checksum": "cc42d114915d56c1a6617d6d9e858cc5",
     "grade": true,
     "grade_id": "sol_part_d_4",
     "locked": false,
     "points": 1,
     "solution": true
    }
   },
   "source": [
    "YOUR ANSWER HERE"
   ]
  },
  {
   "cell_type": "code",
   "execution_count": null,
   "metadata": {
    "collapsed": true
   },
   "outputs": [],
   "source": []
  }
 ],
 "metadata": {
  "anaconda-cloud": {},
  "kernelspec": {
   "display_name": "Python 2",
   "language": "python",
   "name": "python2"
  },
  "language_info": {
   "codemirror_mode": {
    "name": "ipython",
    "version": 2
   },
   "file_extension": ".py",
   "mimetype": "text/x-python",
   "name": "python",
   "nbconvert_exporter": "python",
   "pygments_lexer": "ipython2",
   "version": "2.7.11"
  }
 },
 "nbformat": 4,
 "nbformat_minor": 0
}
